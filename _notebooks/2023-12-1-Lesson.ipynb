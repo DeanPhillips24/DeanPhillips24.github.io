{
 "cells": [
  {
   "cell_type": "code",
   "execution_count": null,
   "metadata": {},
   "outputs": [],
   "source": [
    "layout: notebook\n",
    "title: Animation Lesson 2\n",
    "description: Lesson on animation for OOP Game\n",
    "type: ccc\n",
    "courses: { csse: {week: 14} }\n",
    "image: /images/1_lopez.png"
   ]
  },
  {
   "cell_type": "code",
   "execution_count": null,
   "metadata": {},
   "outputs": [],
   "source": [
    "%%html\n",
    "\n",
    "<div>\n",
    "    <h1>Basics of Animation</h1>\n",
    "    <p>\n",
    "        Below is a sprite of Mr. Lopez. This was the first sprite created for his spritesheet, which outlines the animation of his movement frame by frame.\n",
    "    </p>\n",
    "</div>\n",
    "<div>\n",
    "    <img src= \"{{ site.baseurl }}/images/1_lopez\" alt=\"1 Lopez\" style=\"height: 100px; width: 100px\">\n",
    "\n",
    "\n",
    "    Below is the spritesheet of Mr. Lopez. Each row has a different side of him, because in the project that we used this in, he was able to move freely in all 4 directions. His animation is simple, and depicts basic movement. \n",
    "\n",
    "    src=\"../images/gameimages/lopezspritesheet3.png\" alt=\"lopezspritesheet3\" style=\"height: 250px; width: 100px;\">\n",
    "\n",
    "    The most recent changes made to the spritesheet was the addition of his cane. In our OOP game, we plan to have the player utilize Mr. Lopez's cane as a weapon. Our next step in animation will be drawing new sprites for the player's attacks. \n",
    "\n",
    "    src=\"../images/canelopezspritesheet3.png\" alt=\"canelopezspritesheet\" style=\"height: 250px; width: 100px\">\n",
    "</div>"
   ]
  }
 ],
 "metadata": {
  "language_info": {
   "name": "python"
  },
  "orig_nbformat": 4
 },
 "nbformat": 4,
 "nbformat_minor": 2
}
